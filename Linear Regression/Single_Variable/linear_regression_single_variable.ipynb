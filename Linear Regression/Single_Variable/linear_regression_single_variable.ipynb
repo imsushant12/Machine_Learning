{
 "cells": [
  {
   "cell_type": "markdown",
   "metadata": {},
   "source": [
    "## Linear Regression with Single Variable: sklearn\n",
    "The most commonly used functions of `LinearRegression` from scikit-learn are:\n",
    "\n",
    "* `fit(X, y)`: fits the model to the training data. `X` is the feature matrix and `y` is the target vector. \n",
    "* `predict(X)`: predicts the target for new data points `X` based on the fitted model. \n",
    "* `coef_`: stores the fitted coefficients of the linear model. It represent the slope of the best fit line.\n",
    "* `intercept_`: stores the fitted intercept of the linear model. It represents the y-axis value where the best fit line crosses the y-axis.\n",
    "* `score(X, y)`: computes the coefficient of determination ($R^2$) of the prediction. "
   ]
  },
  {
   "cell_type": "code",
   "execution_count": null,
   "metadata": {},
   "outputs": [],
   "source": [
    "from sklearn import linear_model\n",
    "import pandas as pd\n",
    "\n",
    "# Load data from CSV file into a DataFrame\n",
    "df = pd.read_csv('data.csv')\n",
    "\n",
    "# Assume that the CSV file has columns named 'Area' and 'Price'\n",
    "X = df[['Area of House']]  # Independent variable\n",
    "y = df['Price']            # Dependent variable\n",
    "\n",
    "# Create a Linear Regression model\n",
    "model = linear_model.LinearRegression()\n",
    "\n",
    "# Fit the model to the data (Training)\n",
    "model.fit(X, y)\n",
    "\n",
    "# Prediction\n",
    "print(model.predict(500))"
   ]
  },
  {
   "cell_type": "markdown",
   "metadata": {},
   "source": [
    "## Predicting the net per capita income of Canada for a few years"
   ]
  },
  {
   "cell_type": "code",
   "execution_count": 3,
   "metadata": {},
   "outputs": [
    {
     "name": "stderr",
     "output_type": "stream",
     "text": [
      "/Library/Frameworks/Python.framework/Versions/3.12/lib/python3.12/site-packages/sklearn/base.py:493: UserWarning: X does not have valid feature names, but LinearRegression was fitted with feature names\n",
      "  warnings.warn(\n"
     ]
    }
   ],
   "source": [
    "import pandas as pd\n",
    "import numpy as np\n",
    "from sklearn import linear_model\n",
    "\n",
    "# Creating Object\n",
    "model = linear_model.LinearRegression()\n",
    "\n",
    "# Reading data from CSV file\n",
    "data = pd.read_csv('canada_per_capita.csv')\n",
    "\n",
    "# Training\n",
    "X = data[['year']]\n",
    "Y = data['per capita income (US$)']\n",
    "model.fit(X, Y)\n",
    "\n",
    "# Prediction\n",
    "\"\"\"\n",
    "Way(1):\n",
    "\n",
    "prediction_years = [2022, 2023, 2024, 2025, 2026, 2027, 2028, 2029, 2030, 2031, 2032]\n",
    "predicted_incomes = model.predict([[current_year] for current_year in prediction_years])\n",
    "\"\"\"\n",
    "\n",
    "# Way(2):\n",
    "prediction_years = np.array([2022, 2023, 2024, 2025, 2026, 2027, 2028, 2029, 2030, 2031, 2032]).reshape(-1, 1)\n",
    "predicted_incomes = model.predict(prediction_years)\n"
   ]
  },
  {
   "cell_type": "markdown",
   "metadata": {},
   "source": [
    "## Plotting the graph"
   ]
  },
  {
   "cell_type": "code",
   "execution_count": 4,
   "metadata": {},
   "outputs": [
    {
     "data": {
      "text/plain": [
       "[<matplotlib.lines.Line2D at 0x17763d3d0>]"
      ]
     },
     "execution_count": 4,
     "metadata": {},
     "output_type": "execute_result"
    },
    {
     "data": {
      "image/png": "[encoded data removed]",
      "text/plain": [
       "<Figure size 640x480 with 1 Axes>"
      ]
     },
     "metadata": {},
     "output_type": "display_data"
    }
   ],
   "source": [
    "import matplotlib.pyplot as plt\n",
    "%matplotlib inline\n",
    "\n",
    "# Plotting the scatter plot out of the dataset\n",
    "plt.scatter(data['year'], data['per capita income (US$)'], color='orange', marker='+')\n",
    "plt.xlabel(\"Year\", color='red')\n",
    "plt.ylabel(\"Per Capita Income (in USD)\", color=\"red\")\n",
    "\n",
    "# Plotting the best fit line\n",
    "plt.plot(prediction_years, predicted_incomes)"
   ]
  },
  {
   "cell_type": "markdown",
   "metadata": {},
   "source": [
    "## Extrating the predictions in a CSV"
   ]
  },
  {
   "cell_type": "code",
   "execution_count": 57,
   "metadata": {},
   "outputs": [],
   "source": [
    "# Way(1):\n",
    "# predictions = pd.DataFrame({\"Year\": prediction_years, \"Per Capita Income (in USD)\": predicted_incomes})\n",
    "\n",
    "# Way(2):\n",
    "# For the Way(2), we must use the flatten() function to convert the 2D NumPy array into a 1D array\n",
    "predictions = pd.DataFrame({\"Year\": prediction_years.flatten(), \"Per Capita Income (in USD)\": predicted_incomes})\n",
    "predictions.to_csv(\"final_result.csv\", index=False)"
   ]
  },
  {
   "cell_type": "markdown",
   "metadata": {},
   "source": [
    "### Note:\n",
    ">1. The `reshape(-1, 1)` reshapes the array. By using `-1` for the number of rows and `1` for the number of columns, we are telling NumPy to reshape the array such that it has only one column, and the number of rows is determined automatically based on the size of the array.\n",
    ">2. The `flatten()` function is used to convert the 2-D array into a 1-D array."
   ]
  }
 ],
 "metadata": {
  "kernelspec": {
   "display_name": "Python 3",
   "language": "python",
   "name": "python3"
  },
  "language_info": {
   "codemirror_mode": {
    "name": "ipython",
    "version": 3
   },
   "file_extension": ".py",
   "mimetype": "text/x-python",
   "name": "python",
   "nbconvert_exporter": "python",
   "pygments_lexer": "ipython3",
   "version": "3.12.0"
  }
 },
 "nbformat": 4,
 "nbformat_minor": 2
}
